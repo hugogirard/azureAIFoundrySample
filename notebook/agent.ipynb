{
 "cells": [
  {
   "cell_type": "markdown",
   "id": "aac83989",
   "metadata": {},
   "source": [
    "# Instruction\n",
    "\n",
    "Create one public AI Foundry Project with one model deployments to test this notebook"
   ]
  },
  {
   "cell_type": "code",
   "execution_count": null,
   "id": "f29197c7",
   "metadata": {},
   "outputs": [],
   "source": [
    "# Install python package"
   ]
  }
 ],
 "metadata": {
  "kernelspec": {
   "display_name": ".venv",
   "language": "python",
   "name": "python3"
  },
  "language_info": {
   "name": "python",
   "version": "3.12.8"
  }
 },
 "nbformat": 4,
 "nbformat_minor": 5
}
