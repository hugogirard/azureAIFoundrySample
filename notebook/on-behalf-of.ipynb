{
 "cells": [
  {
   "cell_type": "markdown",
   "id": "1ac5db49",
   "metadata": {},
   "source": [
    "https://github.com/AzureAD/microsoft-authentication-library-for-python/tree/1.22.0/sample"
   ]
  },
  {
   "cell_type": "code",
   "execution_count": null,
   "id": "4c5779ee",
   "metadata": {},
   "outputs": [],
   "source": [
    "%pip install azure.identity python-dotenv msal"
   ]
  },
  {
   "cell_type": "code",
   "execution_count": 18,
   "id": "e57372c8",
   "metadata": {},
   "outputs": [
    {
     "data": {
      "text/plain": [
       "True"
      ]
     },
     "execution_count": 18,
     "metadata": {},
     "output_type": "execute_result"
    }
   ],
   "source": [
    "from dotenv import load_dotenv\n",
    "\n",
    "load_dotenv(override=True)"
   ]
  },
  {
   "cell_type": "code",
   "execution_count": 31,
   "id": "04f7d72f",
   "metadata": {},
   "outputs": [],
   "source": [
    "import os\n",
    "\n",
    "client_id=os.getenv('CLIENT_ID')\n",
    "client_secret=os.getenv('CLIENT_SECRET')\n",
    "first_api_scope=os.getenv('FIRST_API_SCOPE')\n",
    "second_api_scope=os.getenv('SECOND_API_SCOPE')\n",
    "# https://login.microsoftonline.com/your-tenant-id-here\n",
    "authority=os.getenv('AUTHORITY')"
   ]
  },
  {
   "cell_type": "code",
   "execution_count": 27,
   "id": "23f54edf",
   "metadata": {},
   "outputs": [],
   "source": [
    "from msal import ConfidentialClientApplication\n",
    "\n",
    "app = ConfidentialClientApplication(\n",
    "    authority=authority,\n",
    "    client_id=client_id,\n",
    "    client_credential=client_secret\n",
    ")"
   ]
  },
  {
   "cell_type": "code",
   "execution_count": 28,
   "id": "0f9d82ad",
   "metadata": {},
   "outputs": [],
   "source": [
    "result = app.acquire_token_for_client(scopes=[first_api_scope])"
   ]
  },
  {
   "cell_type": "code",
   "execution_count": 29,
   "id": "601618f5",
   "metadata": {},
   "outputs": [
    {
     "data": {
      "text/plain": [
       "'eyJ0eXAiOiJKV1QiLCJhbGciOiJSUzI1NiIsIng1dCI6IkpZaEFjVFBNWl9MWDZEQmxPV1E3SG4wTmVYRSIsImtpZCI6IkpZaEFjVFBNWl9MWDZEQmxPV1E3SG4wTmVYRSJ9.eyJhdWQiOiJhcGk6Ly9hNTY2OWM4Ny00ZjFhLTQ5YWEtODQzZi02NTdjZDkzYjFkNTgiLCJpc3MiOiJodHRwczovL3N0cy53aW5kb3dzLm5ldC81ZTQ1N2M4NS1kN2YzLTRjZDktOWFjNi1lNTQ0YTYxMGE5NTUvIiwiaWF0IjoxNzU1MDQ2NDMwLCJuYmYiOjE3NTUwNDY0MzAsImV4cCI6MTc1NTA1MDMzMCwiYWlvIjoiazJSZ1lOZzUwL2dOejhkbG0xWmxiSTk3RkpWVEFnQT0iLCJhcHBpZCI6ImI4NzEyNjE5LTQ5ZTItNDU5NC05ZDY4LTAzM2VmMDFjZGZiNyIsImFwcGlkYWNyIjoiMSIsImlkcCI6Imh0dHBzOi8vc3RzLndpbmRvd3MubmV0LzVlNDU3Yzg1LWQ3ZjMtNGNkOS05YWM2LWU1NDRhNjEwYTk1NS8iLCJvaWQiOiI4N2U0YWU2My0xYjZlLTRkNzYtYTMzYS1jNGE2Mjk1MmFjZDAiLCJyaCI6IjEuQWJjQWhYeEZYdlBYMlV5YXh1VkVwaENwVlllY1pxVWFUNnBKaEQ5bGZOazdIVmpTQVFDM0FBLiIsInN1YiI6Ijg3ZTRhZTYzLTFiNmUtNGQ3Ni1hMzNhLWM0YTYyOTUyYWNkMCIsInRpZCI6IjVlNDU3Yzg1LWQ3ZjMtNGNkOS05YWM2LWU1NDRhNjEwYTk1NSIsInV0aSI6ImI4Z05tOXNsUmtlUzVocmZGblVFQUEiLCJ2ZXIiOiIxLjAiLCJ4bXNfZnRkIjoiMVdrRnJOTzM0ZHJudnNqazM2Y2gxcHFsZ3UyOHZ0YU1kU1ByWEt2bFloQUJkWE5sWVhOMExXUnpiWE0ifQ.IljqHVhBJvUXmSNA1VXBb2mLtyU3OsHrnwmYzwD3UL-QSO7G8PjqSJ9cZUV_BpYLXYYzZ9kylsaEknt3tv8zwMjzV3lRIwUrKzz1etdNcsCjmyBS8B_aEDguKXIBxQmSKlcFcT9srdZGCjFaSM19_OiV2-kicsVzbXF_pnS45HLTe2TDZKdvQ856qk106ShMndEqzCQVfKVbTXGqU_xLaCmjws-GyhKeOYPa-dX91j99op2g1dP-lbSnjJvbbbUxq7C4F9VJC6p3AEWufnrC4IQ6wtioNSwKa5IXZ8CaaDJJW1qTZdbVVXjzc6xNpL_nSaG68X1DcCbPalblHSHsHQ'"
      ]
     },
     "execution_count": 29,
     "metadata": {},
     "output_type": "execute_result"
    }
   ],
   "source": [
    "result['access_token']"
   ]
  },
  {
   "cell_type": "code",
   "execution_count": 32,
   "id": "776972a8",
   "metadata": {},
   "outputs": [
    {
     "ename": "TypeError",
     "evalue": "'<' not supported between instances of 'str' and 'NoneType'",
     "output_type": "error",
     "traceback": [
      "\u001b[31m---------------------------------------------------------------------------\u001b[39m",
      "\u001b[31mTypeError\u001b[39m                                 Traceback (most recent call last)",
      "\u001b[36mCell\u001b[39m\u001b[36m \u001b[39m\u001b[32mIn[32]\u001b[39m\u001b[32m, line 2\u001b[39m\n\u001b[32m      1\u001b[39m user_token = os.getenv(\u001b[33m'\u001b[39m\u001b[33mUSER_TOKEN\u001b[39m\u001b[33m'\u001b[39m)\n\u001b[32m----> \u001b[39m\u001b[32m2\u001b[39m result2 = \u001b[43mapp\u001b[49m\u001b[43m.\u001b[49m\u001b[43macquire_token_on_behalf_of\u001b[49m\u001b[43m(\u001b[49m\u001b[43muser_assertion\u001b[49m\u001b[43m=\u001b[49m\u001b[43muser_token\u001b[49m\u001b[43m,\u001b[49m\u001b[43mscopes\u001b[49m\u001b[43m=\u001b[49m\u001b[43m[\u001b[49m\u001b[43msecond_api_scope\u001b[49m\u001b[43m]\u001b[49m\u001b[43m)\u001b[49m\n",
      "\u001b[36mFile \u001b[39m\u001b[32m~/github/agentBYODNetwork/notebook/.venv/lib/python3.12/site-packages/msal/application.py:2489\u001b[39m, in \u001b[36mConfidentialClientApplication.acquire_token_on_behalf_of\u001b[39m\u001b[34m(self, user_assertion, scopes, claims_challenge, **kwargs)\u001b[39m\n\u001b[32m   2486\u001b[39m telemetry_context = \u001b[38;5;28mself\u001b[39m._build_telemetry_context(\n\u001b[32m   2487\u001b[39m     \u001b[38;5;28mself\u001b[39m.ACQUIRE_TOKEN_ON_BEHALF_OF_ID)\n\u001b[32m   2488\u001b[39m \u001b[38;5;66;03m# The implementation is NOT based on Token Exchange (RFC 8693)\u001b[39;00m\n\u001b[32m-> \u001b[39m\u001b[32m2489\u001b[39m response = _clean_up(\u001b[38;5;28;43mself\u001b[39;49m\u001b[43m.\u001b[49m\u001b[43mclient\u001b[49m\u001b[43m.\u001b[49m\u001b[43mobtain_token_by_assertion\u001b[49m\u001b[43m(\u001b[49m\u001b[43m  \u001b[49m\u001b[38;5;66;43;03m# bases on assertion RFC 7521\u001b[39;49;00m\n\u001b[32m   2490\u001b[39m \u001b[43m    \u001b[49m\u001b[43muser_assertion\u001b[49m\u001b[43m,\u001b[49m\n\u001b[32m   2491\u001b[39m \u001b[43m    \u001b[49m\u001b[38;5;28;43mself\u001b[39;49m\u001b[43m.\u001b[49m\u001b[43mclient\u001b[49m\u001b[43m.\u001b[49m\u001b[43mGRANT_TYPE_JWT\u001b[49m\u001b[43m,\u001b[49m\u001b[43m  \u001b[49m\u001b[38;5;66;43;03m# IDTs and AAD ATs are all JWTs\u001b[39;49;00m\n\u001b[32m   2492\u001b[39m \u001b[43m    \u001b[49m\u001b[43mscope\u001b[49m\u001b[43m=\u001b[49m\u001b[38;5;28;43mself\u001b[39;49m\u001b[43m.\u001b[49m\u001b[43m_decorate_scope\u001b[49m\u001b[43m(\u001b[49m\u001b[43mscopes\u001b[49m\u001b[43m)\u001b[49m\u001b[43m,\u001b[49m\u001b[43m  \u001b[49m\u001b[38;5;66;43;03m# Decoration is used for:\u001b[39;49;00m\n\u001b[32m   2493\u001b[39m \u001b[43m        \u001b[49m\u001b[38;5;66;43;03m# 1. Explicitly requesting an RT, without relying on AAD default\u001b[39;49;00m\n\u001b[32m   2494\u001b[39m \u001b[43m        \u001b[49m\u001b[38;5;66;43;03m#    behavior, even though it currently still issues an RT.\u001b[39;49;00m\n\u001b[32m   2495\u001b[39m \u001b[43m        \u001b[49m\u001b[38;5;66;43;03m# 2. Requesting an IDT (which would otherwise be unavailable)\u001b[39;49;00m\n\u001b[32m   2496\u001b[39m \u001b[43m        \u001b[49m\u001b[38;5;66;43;03m#    so that the calling app could use id_token_claims to implement\u001b[39;49;00m\n\u001b[32m   2497\u001b[39m \u001b[43m        \u001b[49m\u001b[38;5;66;43;03m#    their own cache mapping, which is likely needed in web apps.\u001b[39;49;00m\n\u001b[32m   2498\u001b[39m \u001b[43m    \u001b[49m\u001b[43mdata\u001b[49m\u001b[43m=\u001b[49m\u001b[38;5;28;43mdict\u001b[39;49m\u001b[43m(\u001b[49m\n\u001b[32m   2499\u001b[39m \u001b[43m        \u001b[49m\u001b[43mkwargs\u001b[49m\u001b[43m.\u001b[49m\u001b[43mpop\u001b[49m\u001b[43m(\u001b[49m\u001b[33;43m\"\u001b[39;49m\u001b[33;43mdata\u001b[39;49m\u001b[33;43m\"\u001b[39;49m\u001b[43m,\u001b[49m\u001b[43m \u001b[49m\u001b[43m{\u001b[49m\u001b[43m}\u001b[49m\u001b[43m)\u001b[49m\u001b[43m,\u001b[49m\n\u001b[32m   2500\u001b[39m \u001b[43m        \u001b[49m\u001b[43mrequested_token_use\u001b[49m\u001b[43m=\u001b[49m\u001b[33;43m\"\u001b[39;49m\u001b[33;43mon_behalf_of\u001b[39;49m\u001b[33;43m\"\u001b[39;49m\u001b[43m,\u001b[49m\n\u001b[32m   2501\u001b[39m \u001b[43m        \u001b[49m\u001b[43mclaims\u001b[49m\u001b[43m=\u001b[49m\u001b[43m_merge_claims_challenge_and_capabilities\u001b[49m\u001b[43m(\u001b[49m\n\u001b[32m   2502\u001b[39m \u001b[43m            \u001b[49m\u001b[38;5;28;43mself\u001b[39;49m\u001b[43m.\u001b[49m\u001b[43m_client_capabilities\u001b[49m\u001b[43m,\u001b[49m\u001b[43m \u001b[49m\u001b[43mclaims_challenge\u001b[49m\u001b[43m)\u001b[49m\u001b[43m)\u001b[49m\u001b[43m,\u001b[49m\n\u001b[32m   2503\u001b[39m \u001b[43m    \u001b[49m\u001b[43mheaders\u001b[49m\u001b[43m=\u001b[49m\u001b[43mtelemetry_context\u001b[49m\u001b[43m.\u001b[49m\u001b[43mgenerate_headers\u001b[49m\u001b[43m(\u001b[49m\u001b[43m)\u001b[49m\u001b[43m,\u001b[49m\n\u001b[32m   2504\u001b[39m \u001b[43m        \u001b[49m\u001b[38;5;66;43;03m# TBD: Expose a login_hint (or ccs_routing_hint) param for web app\u001b[39;49;00m\n\u001b[32m   2505\u001b[39m \u001b[43m    \u001b[49m\u001b[43m*\u001b[49m\u001b[43m*\u001b[49m\u001b[43mkwargs\u001b[49m\u001b[43m)\u001b[49m)\n\u001b[32m   2506\u001b[39m \u001b[38;5;28;01mif\u001b[39;00m \u001b[33m\"\u001b[39m\u001b[33maccess_token\u001b[39m\u001b[33m\"\u001b[39m \u001b[38;5;129;01min\u001b[39;00m response:\n\u001b[32m   2507\u001b[39m     response[\u001b[38;5;28mself\u001b[39m._TOKEN_SOURCE] = \u001b[38;5;28mself\u001b[39m._TOKEN_SOURCE_IDP\n",
      "\u001b[36mFile \u001b[39m\u001b[32m~/github/agentBYODNetwork/notebook/.venv/lib/python3.12/site-packages/msal/oauth2cli/oauth2.py:864\u001b[39m, in \u001b[36mClient.obtain_token_by_assertion\u001b[39m\u001b[34m(self, assertion, grant_type, scope, **kwargs)\u001b[39m\n\u001b[32m    862\u001b[39m data = kwargs.pop(\u001b[33m\"\u001b[39m\u001b[33mdata\u001b[39m\u001b[33m\"\u001b[39m, {})\n\u001b[32m    863\u001b[39m data.update(scope=scope, assertion=encoder(assertion))\n\u001b[32m--> \u001b[39m\u001b[32m864\u001b[39m \u001b[38;5;28;01mreturn\u001b[39;00m \u001b[38;5;28;43mself\u001b[39;49m\u001b[43m.\u001b[49m\u001b[43m_obtain_token\u001b[49m\u001b[43m(\u001b[49m\u001b[43mgrant_type\u001b[49m\u001b[43m,\u001b[49m\u001b[43m \u001b[49m\u001b[43mdata\u001b[49m\u001b[43m=\u001b[49m\u001b[43mdata\u001b[49m\u001b[43m,\u001b[49m\u001b[43m \u001b[49m\u001b[43m*\u001b[49m\u001b[43m*\u001b[49m\u001b[43mkwargs\u001b[49m\u001b[43m)\u001b[49m\n",
      "\u001b[36mFile \u001b[39m\u001b[32m~/github/agentBYODNetwork/notebook/.venv/lib/python3.12/site-packages/msal/oauth2cli/oidc.py:170\u001b[39m, in \u001b[36mClient._obtain_token\u001b[39m\u001b[34m(self, grant_type, *args, **kwargs)\u001b[39m\n\u001b[32m    166\u001b[39m \u001b[38;5;28;01mdef\u001b[39;00m\u001b[38;5;250m \u001b[39m\u001b[34m_obtain_token\u001b[39m(\u001b[38;5;28mself\u001b[39m, grant_type, *args, **kwargs):\n\u001b[32m    167\u001b[39m \u001b[38;5;250m    \u001b[39m\u001b[33;03m\"\"\"The result will also contain one more key \"id_token_claims\",\u001b[39;00m\n\u001b[32m    168\u001b[39m \u001b[33;03m    whose value will be a dictionary returned by :func:`~decode_id_token`.\u001b[39;00m\n\u001b[32m    169\u001b[39m \u001b[33;03m    \"\"\"\u001b[39;00m\n\u001b[32m--> \u001b[39m\u001b[32m170\u001b[39m     ret = \u001b[38;5;28;43msuper\u001b[39;49m\u001b[43m(\u001b[49m\u001b[43mClient\u001b[49m\u001b[43m,\u001b[49m\u001b[43m \u001b[49m\u001b[38;5;28;43mself\u001b[39;49m\u001b[43m)\u001b[49m\u001b[43m.\u001b[49m\u001b[43m_obtain_token\u001b[49m\u001b[43m(\u001b[49m\u001b[43mgrant_type\u001b[49m\u001b[43m,\u001b[49m\u001b[43m \u001b[49m\u001b[43m*\u001b[49m\u001b[43margs\u001b[49m\u001b[43m,\u001b[49m\u001b[43m \u001b[49m\u001b[43m*\u001b[49m\u001b[43m*\u001b[49m\u001b[43mkwargs\u001b[49m\u001b[43m)\u001b[49m\n\u001b[32m    171\u001b[39m     \u001b[38;5;28;01mif\u001b[39;00m \u001b[33m\"\u001b[39m\u001b[33mid_token\u001b[39m\u001b[33m\"\u001b[39m \u001b[38;5;129;01min\u001b[39;00m ret:\n\u001b[32m    172\u001b[39m         ret[\u001b[33m\"\u001b[39m\u001b[33mid_token_claims\u001b[39m\u001b[33m\"\u001b[39m] = \u001b[38;5;28mself\u001b[39m.decode_id_token(ret[\u001b[33m\"\u001b[39m\u001b[33mid_token\u001b[39m\u001b[33m\"\u001b[39m])\n",
      "\u001b[36mFile \u001b[39m\u001b[32m~/github/agentBYODNetwork/notebook/.venv/lib/python3.12/site-packages/msal/oauth2cli/oauth2.py:776\u001b[39m, in \u001b[36mClient._obtain_token\u001b[39m\u001b[34m(self, grant_type, params, data, also_save_rt, on_obtaining_tokens, *args, **kwargs)\u001b[39m\n\u001b[32m    770\u001b[39m \u001b[38;5;28;01mdef\u001b[39;00m\u001b[38;5;250m \u001b[39m\u001b[34m_obtain_token\u001b[39m(\n\u001b[32m    771\u001b[39m         \u001b[38;5;28mself\u001b[39m, grant_type, params=\u001b[38;5;28;01mNone\u001b[39;00m, data=\u001b[38;5;28;01mNone\u001b[39;00m,\n\u001b[32m    772\u001b[39m         also_save_rt=\u001b[38;5;28;01mFalse\u001b[39;00m,\n\u001b[32m    773\u001b[39m         on_obtaining_tokens=\u001b[38;5;28;01mNone\u001b[39;00m,\n\u001b[32m    774\u001b[39m         *args, **kwargs):\n\u001b[32m    775\u001b[39m     _data = data.copy()  \u001b[38;5;66;03m# to prevent side effect\u001b[39;00m\n\u001b[32m--> \u001b[39m\u001b[32m776\u001b[39m     resp = \u001b[38;5;28;43msuper\u001b[39;49m\u001b[43m(\u001b[49m\u001b[43mClient\u001b[49m\u001b[43m,\u001b[49m\u001b[43m \u001b[49m\u001b[38;5;28;43mself\u001b[39;49m\u001b[43m)\u001b[49m\u001b[43m.\u001b[49m\u001b[43m_obtain_token\u001b[49m\u001b[43m(\u001b[49m\n\u001b[32m    777\u001b[39m \u001b[43m        \u001b[49m\u001b[43mgrant_type\u001b[49m\u001b[43m,\u001b[49m\u001b[43m \u001b[49m\u001b[43mparams\u001b[49m\u001b[43m,\u001b[49m\u001b[43m \u001b[49m\u001b[43m_data\u001b[49m\u001b[43m,\u001b[49m\u001b[43m \u001b[49m\u001b[43m*\u001b[49m\u001b[43margs\u001b[49m\u001b[43m,\u001b[49m\u001b[43m \u001b[49m\u001b[43m*\u001b[49m\u001b[43m*\u001b[49m\u001b[43mkwargs\u001b[49m\u001b[43m)\u001b[49m\n\u001b[32m    778\u001b[39m     \u001b[38;5;28;01mif\u001b[39;00m \u001b[33m\"\u001b[39m\u001b[33merror\u001b[39m\u001b[33m\"\u001b[39m \u001b[38;5;129;01mnot\u001b[39;00m \u001b[38;5;129;01min\u001b[39;00m resp:\n\u001b[32m    779\u001b[39m         _resp = resp.copy()\n",
      "\u001b[36mFile \u001b[39m\u001b[32m~/github/agentBYODNetwork/notebook/.venv/lib/python3.12/site-packages/msal/oauth2cli/oauth2.py:212\u001b[39m, in \u001b[36mBaseClient._obtain_token\u001b[39m\u001b[34m(self, grant_type, params, data, headers, post, **kwargs)\u001b[39m\n\u001b[32m    209\u001b[39m _data = {k: v \u001b[38;5;28;01mfor\u001b[39;00m k, v \u001b[38;5;129;01min\u001b[39;00m _data.items() \u001b[38;5;28;01mif\u001b[39;00m v}  \u001b[38;5;66;03m# Clean up None values\u001b[39;00m\n\u001b[32m    211\u001b[39m \u001b[38;5;28;01mif\u001b[39;00m _data.get(\u001b[33m'\u001b[39m\u001b[33mscope\u001b[39m\u001b[33m'\u001b[39m):\n\u001b[32m--> \u001b[39m\u001b[32m212\u001b[39m     _data[\u001b[33m'\u001b[39m\u001b[33mscope\u001b[39m\u001b[33m'\u001b[39m] = \u001b[38;5;28;43mself\u001b[39;49m\u001b[43m.\u001b[49m\u001b[43m_stringify\u001b[49m\u001b[43m(\u001b[49m\u001b[43m_data\u001b[49m\u001b[43m[\u001b[49m\u001b[33;43m'\u001b[39;49m\u001b[33;43mscope\u001b[39;49m\u001b[33;43m'\u001b[39;49m\u001b[43m]\u001b[49m\u001b[43m)\u001b[49m\n\u001b[32m    214\u001b[39m _headers = {\u001b[33m'\u001b[39m\u001b[33mAccept\u001b[39m\u001b[33m'\u001b[39m: \u001b[33m'\u001b[39m\u001b[33mapplication/json\u001b[39m\u001b[33m'\u001b[39m}\n\u001b[32m    215\u001b[39m _headers.update(\u001b[38;5;28mself\u001b[39m.default_headers)\n",
      "\u001b[36mFile \u001b[39m\u001b[32m~/github/agentBYODNetwork/notebook/.venv/lib/python3.12/site-packages/msal/oauth2cli/oauth2.py:269\u001b[39m, in \u001b[36mBaseClient._stringify\u001b[39m\u001b[34m(self, sequence)\u001b[39m\n\u001b[32m    267\u001b[39m \u001b[38;5;28;01mdef\u001b[39;00m\u001b[38;5;250m \u001b[39m\u001b[34m_stringify\u001b[39m(\u001b[38;5;28mself\u001b[39m, sequence):\n\u001b[32m    268\u001b[39m     \u001b[38;5;28;01mif\u001b[39;00m \u001b[38;5;28misinstance\u001b[39m(sequence, (\u001b[38;5;28mlist\u001b[39m, \u001b[38;5;28mset\u001b[39m, \u001b[38;5;28mtuple\u001b[39m)):\n\u001b[32m--> \u001b[39m\u001b[32m269\u001b[39m         \u001b[38;5;28;01mreturn\u001b[39;00m \u001b[33m'\u001b[39m\u001b[33m \u001b[39m\u001b[33m'\u001b[39m.join(\u001b[38;5;28;43msorted\u001b[39;49m\u001b[43m(\u001b[49m\u001b[43msequence\u001b[49m\u001b[43m)\u001b[49m)  \u001b[38;5;66;03m# normalizing it, ascendingly\u001b[39;00m\n\u001b[32m    270\u001b[39m     \u001b[38;5;28;01mreturn\u001b[39;00m sequence\n",
      "\u001b[31mTypeError\u001b[39m: '<' not supported between instances of 'str' and 'NoneType'"
     ]
    }
   ],
   "source": [
    "user_token = os.getenv('USER_TOKEN')\n",
    "result2 = app.acquire_token_on_behalf_of(user_assertion=user_token,scopes=[second_api_scope])"
   ]
  }
 ],
 "metadata": {
  "kernelspec": {
   "display_name": ".venv",
   "language": "python",
   "name": "python3"
  },
  "language_info": {
   "codemirror_mode": {
    "name": "ipython",
    "version": 3
   },
   "file_extension": ".py",
   "mimetype": "text/x-python",
   "name": "python",
   "nbconvert_exporter": "python",
   "pygments_lexer": "ipython3",
   "version": "3.12.8"
  }
 },
 "nbformat": 4,
 "nbformat_minor": 5
}
